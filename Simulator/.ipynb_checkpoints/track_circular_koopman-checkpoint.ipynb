{
 "cells": [
  {
   "cell_type": "markdown",
   "metadata": {},
   "source": [
    "This code ..."
   ]
  },
  {
   "cell_type": "markdown",
   "metadata": {},
   "source": [
    "# Define model hyperparameters"
   ]
  },
  {
   "cell_type": "code",
   "execution_count": null,
   "metadata": {},
   "outputs": [],
   "source": [
    "# encoder model\n",
    "\n",
    "encoder_input_dim = 13 # number of input features, equal to dimension of quadrotor state vector in state-space\n",
    "encoder_no_hidden_layers = 3 # number of hidden layers\n",
    "encoder_width = 80 # width of hidden layers \n",
    "\n",
    "# decoder model\n",
    "\n",
    "decoder_input_dim = 20 # number of input features, equal to dimension of quadrotor state vector in lifted space\n",
    "decoder_no_hidden_layers = 3 # number of hidden layers\n",
    "decoder_width = 80 # width of hidden layers \n",
    "\n",
    "# operator model\n",
    "\n",
    "operator_input_dim = encoder_width\n",
    "operator_output_dim = decoder_input_dim"
   ]
  },
  {
   "cell_type": "markdown",
   "metadata": {},
   "source": [
    "# Import and convert data"
   ]
  },
  {
   "cell_type": "code",
   "execution_count": null,
   "metadata": {},
   "outputs": [],
   "source": [
    "import numpy as np\n",
    "import torch\n",
    "import torch.nn as nn\n",
    "import torch.optim as optim\n",
    "\n",
    "device = (\n",
    "    \"cuda\"\n",
    "    if torch.cuda.is_available()\n",
    "    else \"cpu\"\n",
    "    if torch.backends.mps.is_available()\n",
    "    else \"cpu\"\n",
    ")\n",
    "print(f\"Using {device} device\")\n",
    "\n",
    "data_dir = '/Users/kianmolani/Dropbox/Academia/U-M/Research & Development/Project JASE/code/Python/Simulator/output/data/'\n",
    "data = np.load(data_dir + \"quad_traj.npy\")\n",
    "data = data.astype(np.float32)\n",
    "\n",
    "# define EDMD data matrices\n",
    "\n",
    "X = torch.tensor(data[0:-1,:], device=device)\n",
    "Y = torch.tensor(data[1:,:], device=device)"
   ]
  },
  {
   "cell_type": "markdown",
   "metadata": {},
   "source": [
    "# Define the neural network"
   ]
  },
  {
   "cell_type": "code",
   "execution_count": null,
   "metadata": {},
   "outputs": [],
   "source": [
    "from networks import Encoder, Decoder, Operator, Predictor\n",
    "\n",
    "encoder = Encoder(encoder_input_dim, encoder_no_hidden_layers, encoder_width)\n",
    "decoder = Decoder(decoder_input_dim, decoder_no_hidden_layers, decoder_width)\n",
    "operator = Operator(operator_input_dim, operator_output_dim)\n",
    "predictor = Predictor(encoder, decoder, operator, decoder_width, encoder_input_dim)"
   ]
  },
  {
   "cell_type": "markdown",
   "metadata": {},
   "source": [
    "# Perform training"
   ]
  },
  {
   "cell_type": "code",
   "execution_count": null,
   "metadata": {},
   "outputs": [],
   "source": [
    "# define loss criterion\n",
    "\n",
    "criterion = nn.MSELoss()\n",
    "\n",
    "# define optimizer\n",
    "\n",
    "optimizer = optim.Adam(predictor.parameters(), lr=0.001)\n",
    "\n",
    "num_epochs = 10000\n",
    "\n",
    "for epoch in range(X.shape[0]):\n",
    "    \n",
    "    target = Y[epoch]\n",
    "    output = predictor(X[epoch])\n",
    "\n",
    "    # compute loss\n",
    "\n",
    "    loss = criterion(output, target)\n",
    "\n",
    "    # perform backpropagation\n",
    "\n",
    "    predictor.zero_grad() # zero the gradient buffers\n",
    "    loss.backward()\n",
    "    optimizer.step() # performs the update\n",
    "\n",
    "    # print the loss for tracking progress\n",
    "\n",
    "    if (epoch + 1) % 100 == 0:\n",
    "        print(f\"Epoch [{epoch+1}/{num_epochs}], Loss: {loss.item()}\")"
   ]
  }
 ],
 "metadata": {
  "kernelspec": {
   "display_name": "env",
   "language": "python",
   "name": "python3"
  },
  "language_info": {
   "codemirror_mode": {
    "name": "ipython",
    "version": 3
   },
   "file_extension": ".py",
   "mimetype": "text/x-python",
   "name": "python",
   "nbconvert_exporter": "python",
   "pygments_lexer": "ipython3",
   "version": "3.11.4"
  }
 },
 "nbformat": 4,
 "nbformat_minor": 2
}
