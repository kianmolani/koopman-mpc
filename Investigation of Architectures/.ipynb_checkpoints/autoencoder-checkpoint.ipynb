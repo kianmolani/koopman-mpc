{
 "cells": [
  {
   "cell_type": "markdown",
   "metadata": {},
   "source": [
    "# Generate synthetic data from a discrete spectrum dynamical system with a known Koopman invariant subspace"
   ]
  },
  {
   "cell_type": "code",
   "execution_count": 1,
   "metadata": {},
   "outputs": [
    {
     "ename": "ValueError",
     "evalue": "operands could not be broadcast together with shapes (2,10000) (2,) ",
     "output_type": "error",
     "traceback": [
      "\u001b[0;31m---------------------------------------------------------------------------\u001b[0m",
      "\u001b[0;31mValueError\u001b[0m                                Traceback (most recent call last)",
      "Cell \u001b[0;32mIn[1], line 28\u001b[0m\n\u001b[1;32m     24\u001b[0m num_points \u001b[39m=\u001b[39m \u001b[39m1000\u001b[39m\n\u001b[1;32m     26\u001b[0m \u001b[39m# solve the system of differential equations\u001b[39;00m\n\u001b[0;32m---> 28\u001b[0m t, x, y \u001b[39m=\u001b[39m system\u001b[39m.\u001b[39;49msolve(x0, y0, t_start, t_end, num_points)\n\u001b[1;32m     30\u001b[0m \u001b[39m# plot the results\u001b[39;00m\n\u001b[1;32m     32\u001b[0m plt\u001b[39m.\u001b[39mplot(x, x\u001b[39m*\u001b[39m\u001b[39m*\u001b[39m\u001b[39m2\u001b[39m, \u001b[39m'\u001b[39m\u001b[39mr--\u001b[39m\u001b[39m'\u001b[39m, label\u001b[39m=\u001b[39m\u001b[39m'\u001b[39m\u001b[39mSlow manifold\u001b[39m\u001b[39m'\u001b[39m)\n",
      "File \u001b[0;32m~/Dropbox/Academia/U-M/Research & Development/Project JASE/code/Python/dynamics.py:19\u001b[0m, in \u001b[0;36mSlowManifold.solve\u001b[0;34m(self, x0, y0, t_start, t_end, num_points)\u001b[0m\n\u001b[1;32m     17\u001b[0m initial_conditions \u001b[39m=\u001b[39m [x0, y0]\n\u001b[1;32m     18\u001b[0m t_span \u001b[39m=\u001b[39m np\u001b[39m.\u001b[39mlinspace(t_start, t_end, num_points)\n\u001b[0;32m---> 19\u001b[0m solution \u001b[39m=\u001b[39m solve_ivp(\u001b[39mself\u001b[39;49m\u001b[39m.\u001b[39;49mmodel, [t_start, t_end], initial_conditions, t_eval\u001b[39m=\u001b[39;49mt_span)\n\u001b[1;32m     20\u001b[0m \u001b[39mreturn\u001b[39;00m solution\u001b[39m.\u001b[39mt, solution\u001b[39m.\u001b[39my[\u001b[39m0\u001b[39m], solution\u001b[39m.\u001b[39my[\u001b[39m1\u001b[39m]\n",
      "File \u001b[0;32m~/.pyenv/versions/3.10.10/lib/python3.10/site-packages/scipy/integrate/_ivp/ivp.py:557\u001b[0m, in \u001b[0;36msolve_ivp\u001b[0;34m(fun, t_span, y0, method, t_eval, dense_output, events, vectorized, args, **options)\u001b[0m\n\u001b[1;32m    554\u001b[0m \u001b[39mif\u001b[39;00m method \u001b[39min\u001b[39;00m METHODS:\n\u001b[1;32m    555\u001b[0m     method \u001b[39m=\u001b[39m METHODS[method]\n\u001b[0;32m--> 557\u001b[0m solver \u001b[39m=\u001b[39m method(fun, t0, y0, tf, vectorized\u001b[39m=\u001b[39;49mvectorized, \u001b[39m*\u001b[39;49m\u001b[39m*\u001b[39;49moptions)\n\u001b[1;32m    559\u001b[0m \u001b[39mif\u001b[39;00m t_eval \u001b[39mis\u001b[39;00m \u001b[39mNone\u001b[39;00m:\n\u001b[1;32m    560\u001b[0m     ts \u001b[39m=\u001b[39m [t0]\n",
      "File \u001b[0;32m~/.pyenv/versions/3.10.10/lib/python3.10/site-packages/scipy/integrate/_ivp/rk.py:96\u001b[0m, in \u001b[0;36mRungeKutta.__init__\u001b[0;34m(self, fun, t0, y0, t_bound, max_step, rtol, atol, vectorized, first_step, **extraneous)\u001b[0m\n\u001b[1;32m     94\u001b[0m \u001b[39mself\u001b[39m\u001b[39m.\u001b[39mf \u001b[39m=\u001b[39m \u001b[39mself\u001b[39m\u001b[39m.\u001b[39mfun(\u001b[39mself\u001b[39m\u001b[39m.\u001b[39mt, \u001b[39mself\u001b[39m\u001b[39m.\u001b[39my)\n\u001b[1;32m     95\u001b[0m \u001b[39mif\u001b[39;00m first_step \u001b[39mis\u001b[39;00m \u001b[39mNone\u001b[39;00m:\n\u001b[0;32m---> 96\u001b[0m     \u001b[39mself\u001b[39m\u001b[39m.\u001b[39mh_abs \u001b[39m=\u001b[39m select_initial_step(\n\u001b[1;32m     97\u001b[0m         \u001b[39mself\u001b[39;49m\u001b[39m.\u001b[39;49mfun, \u001b[39mself\u001b[39;49m\u001b[39m.\u001b[39;49mt, \u001b[39mself\u001b[39;49m\u001b[39m.\u001b[39;49my, \u001b[39mself\u001b[39;49m\u001b[39m.\u001b[39;49mf, \u001b[39mself\u001b[39;49m\u001b[39m.\u001b[39;49mdirection,\n\u001b[1;32m     98\u001b[0m         \u001b[39mself\u001b[39;49m\u001b[39m.\u001b[39;49merror_estimator_order, \u001b[39mself\u001b[39;49m\u001b[39m.\u001b[39;49mrtol, \u001b[39mself\u001b[39;49m\u001b[39m.\u001b[39;49matol)\n\u001b[1;32m     99\u001b[0m \u001b[39melse\u001b[39;00m:\n\u001b[1;32m    100\u001b[0m     \u001b[39mself\u001b[39m\u001b[39m.\u001b[39mh_abs \u001b[39m=\u001b[39m validate_first_step(first_step, t0, t_bound)\n",
      "File \u001b[0;32m~/.pyenv/versions/3.10.10/lib/python3.10/site-packages/scipy/integrate/_ivp/common.py:106\u001b[0m, in \u001b[0;36mselect_initial_step\u001b[0;34m(fun, t0, y0, f0, direction, order, rtol, atol)\u001b[0m\n\u001b[1;32m    104\u001b[0m scale \u001b[39m=\u001b[39m atol \u001b[39m+\u001b[39m np\u001b[39m.\u001b[39mabs(y0) \u001b[39m*\u001b[39m rtol\n\u001b[1;32m    105\u001b[0m d0 \u001b[39m=\u001b[39m norm(y0 \u001b[39m/\u001b[39m scale)\n\u001b[0;32m--> 106\u001b[0m d1 \u001b[39m=\u001b[39m norm(f0 \u001b[39m/\u001b[39;49m scale)\n\u001b[1;32m    107\u001b[0m \u001b[39mif\u001b[39;00m d0 \u001b[39m<\u001b[39m \u001b[39m1e-5\u001b[39m \u001b[39mor\u001b[39;00m d1 \u001b[39m<\u001b[39m \u001b[39m1e-5\u001b[39m:\n\u001b[1;32m    108\u001b[0m     h0 \u001b[39m=\u001b[39m \u001b[39m1e-6\u001b[39m\n",
      "\u001b[0;31mValueError\u001b[0m: operands could not be broadcast together with shapes (2,10000) (2,) "
     ]
    }
   ],
   "source": [
    "import matplotlib.pyplot as plt\n",
    "import numpy as np\n",
    "\n",
    "from dynamics import SlowManifold\n",
    "\n",
    "# define system parameters\n",
    "\n",
    "mu = -0.05\n",
    "lam = -1\n",
    "\n",
    "# create instance of SlowManifold class\n",
    "\n",
    "system = SlowManifold(mu, lam)\n",
    "\n",
    "# define initial conditions\n",
    "\n",
    "x0 = np.linspace(-0.5, 0.5, 10000)\n",
    "y0 = np.linspace(-0.5, 0.5, 10000)\n",
    "\n",
    "# define time span\n",
    "\n",
    "t_start = 0\n",
    "t_end = 100\n",
    "num_points = 1000\n",
    "\n",
    "# solve the system of differential equations\n",
    "\n",
    "t, x, y = system.solve(x0, y0, t_start, t_end, num_points)\n",
    "\n",
    "# plot the results\n",
    "\n",
    "plt.plot(x, x**2, 'r--', label='Slow manifold')\n",
    "plt.plot(x, y, label='Nonlinear system')\n",
    "plt.xlabel('x')\n",
    "plt.ylabel('y')\n",
    "plt.title('Phase Space Plot of Nonlinear Dynamical System with Slow Manifold')\n",
    "plt.legend()\n",
    "plt.grid(True)\n",
    "plt.show()"
   ]
  }
 ],
 "metadata": {
  "kernelspec": {
   "display_name": "Python 3",
   "language": "python",
   "name": "python3"
  },
  "language_info": {
   "codemirror_mode": {
    "name": "ipython",
    "version": 3
   },
   "file_extension": ".py",
   "mimetype": "text/x-python",
   "name": "python",
   "nbconvert_exporter": "python",
   "pygments_lexer": "ipython3",
   "version": "3.10.10"
  },
  "orig_nbformat": 4
 },
 "nbformat": 4,
 "nbformat_minor": 2
}
